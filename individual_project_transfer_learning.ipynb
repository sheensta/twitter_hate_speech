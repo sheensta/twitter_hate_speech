{
  "nbformat": 4,
  "nbformat_minor": 0,
  "metadata": {
    "colab": {
      "name": "individual project transfer learning.ipynb",
      "provenance": [],
      "collapsed_sections": [],
      "authorship_tag": "ABX9TyMYdAkiOP+nGfB7c298ZJsw",
      "include_colab_link": true
    },
    "kernelspec": {
      "name": "python3",
      "display_name": "Python 3"
    }
  },
  "cells": [
    {
      "cell_type": "markdown",
      "metadata": {
        "id": "view-in-github",
        "colab_type": "text"
      },
      "source": [
        "<a href=\"https://colab.research.google.com/github/sheensta/twitter_hate_speech/blob/master/individual_project_transfer_learning.ipynb\" target=\"_parent\"><img src=\"https://colab.research.google.com/assets/colab-badge.svg\" alt=\"Open In Colab\"/></a>"
      ]
    },
    {
      "cell_type": "markdown",
      "metadata": {
        "id": "e1jFiQWFyrQE"
      },
      "source": [
        "#Transfer Learning with NLP"
      ]
    },
    {
      "cell_type": "code",
      "metadata": {
        "id": "c8YHn1F-u882"
      },
      "source": [
        "import pandas as pd\r\n",
        "import numpy as np\r\n",
        "from matplotlib import pyplot\r\n",
        "import keras"
      ],
      "execution_count": 66,
      "outputs": []
    },
    {
      "cell_type": "markdown",
      "metadata": {
        "id": "Ba4FlaoAyiov"
      },
      "source": [
        "## Loading Data"
      ]
    },
    {
      "cell_type": "code",
      "metadata": {
        "colab": {
          "resources": {
            "http://localhost:8080/nbextensions/google.colab/files.js": {
              "data": "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",
              "ok": true,
              "headers": [
                [
                  "content-type",
                  "application/javascript"
                ]
              ],
              "status": 200,
              "status_text": ""
            }
          },
          "base_uri": "https://localhost:8080/",
          "height": 38
        },
        "id": "cNAIAbW7u-wi",
        "outputId": "5ea86931-cd26-4818-c395-f472b87ffc04"
      },
      "source": [
        "from google.colab import files\r\n",
        "uploaded = files.upload()"
      ],
      "execution_count": 2,
      "outputs": [
        {
          "output_type": "display_data",
          "data": {
            "text/html": [
              "\n",
              "     <input type=\"file\" id=\"files-5f4fbbc0-1d45-453b-9532-6da3eecad40c\" name=\"files[]\" multiple disabled\n",
              "        style=\"border:none\" />\n",
              "     <output id=\"result-5f4fbbc0-1d45-453b-9532-6da3eecad40c\">\n",
              "      Upload widget is only available when the cell has been executed in the\n",
              "      current browser session. Please rerun this cell to enable.\n",
              "      </output>\n",
              "      <script src=\"/nbextensions/google.colab/files.js\"></script> "
            ],
            "text/plain": [
              "<IPython.core.display.HTML object>"
            ]
          },
          "metadata": {
            "tags": []
          }
        }
      ]
    },
    {
      "cell_type": "code",
      "metadata": {
        "colab": {
          "resources": {
            "http://localhost:8080/nbextensions/google.colab/files.js": {
              "data": "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",
              "ok": true,
              "headers": [
                [
                  "content-type",
                  "application/javascript"
                ]
              ],
              "status": 200,
              "status_text": ""
            }
          },
          "base_uri": "https://localhost:8080/",
          "height": 38
        },
        "id": "BjcvVqLjvBDj",
        "outputId": "c19f0753-a0af-4e0c-ee70-00e10e070c8e"
      },
      "source": [
        "uploaded2 = files.upload()"
      ],
      "execution_count": 3,
      "outputs": [
        {
          "output_type": "display_data",
          "data": {
            "text/html": [
              "\n",
              "     <input type=\"file\" id=\"files-b7c19e57-8a9e-4fdb-b81b-b56779cd4f19\" name=\"files[]\" multiple disabled\n",
              "        style=\"border:none\" />\n",
              "     <output id=\"result-b7c19e57-8a9e-4fdb-b81b-b56779cd4f19\">\n",
              "      Upload widget is only available when the cell has been executed in the\n",
              "      current browser session. Please rerun this cell to enable.\n",
              "      </output>\n",
              "      <script src=\"/nbextensions/google.colab/files.js\"></script> "
            ],
            "text/plain": [
              "<IPython.core.display.HTML object>"
            ]
          },
          "metadata": {
            "tags": []
          }
        }
      ]
    },
    {
      "cell_type": "code",
      "metadata": {
        "id": "0r-c78u2vqIY"
      },
      "source": [
        "df = pd.read_csv('df_clean.csv')\r\n",
        "df = df.iloc[:,3:]"
      ],
      "execution_count": 67,
      "outputs": []
    },
    {
      "cell_type": "markdown",
      "metadata": {
        "id": "mcu6VC0gyxqQ"
      },
      "source": [
        "## Cleaning Data"
      ]
    },
    {
      "cell_type": "code",
      "metadata": {
        "colab": {
          "base_uri": "https://localhost:8080/",
          "height": 564
        },
        "id": "B9NcaPqXvsId",
        "outputId": "7faf45c9-c659-4db7-d81e-4c073323e7f8"
      },
      "source": [
        "#remove mentions, urls, hashtags, ;&, and 'rt' and other punctuation. keep a count of mentions, urls, hashtags\r\n",
        "tweets = df['tweet_lemma']\r\n",
        "\r\n",
        "mentions = []\r\n",
        "urls = []\r\n",
        "hashtags = []\r\n",
        "i = 0\r\n",
        "for tweet in tweets:\r\n",
        "    tweet = tweet.split()\r\n",
        "    mentions.append(tweet.count('mentionhere')+tweet.count('mentionhere:')+tweet.count('\"mentionhere:')+tweet.count('&#;mentionhere:'))\r\n",
        "    urls.append(tweet.count('urlhere'))\r\n",
        "    hashtags.append(tweet.count('hashtaghere'))\r\n",
        "    tweet = [token for token in tweet if token not in [';&','']]\r\n",
        "    tweet = [token for token in tweet if token not in ['&#;mentionhere:','mentionhere:','\"mentionhere:','mentionhere', 'urlhere', 'hashtaghere', 'rt', 'amp']]\r\n",
        "    tweet = \" \".join(tweet)\r\n",
        "    tweets[i] = tweet\r\n",
        "    i += 1\r\n",
        "    \r\n",
        "df['tweet_no_others'] = tweets\r\n",
        "df['mention_count'] = mentions\r\n",
        "df['url_count'] = urls\r\n",
        "df['hashtag_count'] = hashtags\r\n",
        "\r\n",
        "df.head()"
      ],
      "execution_count": 68,
      "outputs": [
        {
          "output_type": "stream",
          "text": [
            "/usr/local/lib/python3.6/dist-packages/ipykernel_launcher.py:16: SettingWithCopyWarning: \n",
            "A value is trying to be set on a copy of a slice from a DataFrame\n",
            "\n",
            "See the caveats in the documentation: https://pandas.pydata.org/pandas-docs/stable/user_guide/indexing.html#returning-a-view-versus-a-copy\n",
            "  app.launch_new_instance()\n"
          ],
          "name": "stderr"
        },
        {
          "output_type": "execute_result",
          "data": {
            "text/html": [
              "<div>\n",
              "<style scoped>\n",
              "    .dataframe tbody tr th:only-of-type {\n",
              "        vertical-align: middle;\n",
              "    }\n",
              "\n",
              "    .dataframe tbody tr th {\n",
              "        vertical-align: top;\n",
              "    }\n",
              "\n",
              "    .dataframe thead th {\n",
              "        text-align: right;\n",
              "    }\n",
              "</style>\n",
              "<table border=\"1\" class=\"dataframe\">\n",
              "  <thead>\n",
              "    <tr style=\"text-align: right;\">\n",
              "      <th></th>\n",
              "      <th>count</th>\n",
              "      <th>hate_speech</th>\n",
              "      <th>offensive_language</th>\n",
              "      <th>neither</th>\n",
              "      <th>class</th>\n",
              "      <th>tweet</th>\n",
              "      <th>tweet_clean</th>\n",
              "      <th>tweet_lemma</th>\n",
              "      <th>tweet_nouns</th>\n",
              "      <th>tweet_sym</th>\n",
              "      <th>tweet_verbs</th>\n",
              "      <th>tweet_nv</th>\n",
              "      <th>num_tokens</th>\n",
              "      <th>tweet_no_others</th>\n",
              "      <th>mention_count</th>\n",
              "      <th>url_count</th>\n",
              "      <th>hashtag_count</th>\n",
              "    </tr>\n",
              "  </thead>\n",
              "  <tbody>\n",
              "    <tr>\n",
              "      <th>0</th>\n",
              "      <td>3</td>\n",
              "      <td>1</td>\n",
              "      <td>2</td>\n",
              "      <td>0</td>\n",
              "      <td>1</td>\n",
              "      <td>\" bitch who do you love \"</td>\n",
              "      <td>bitch who do you love</td>\n",
              "      <td>bitch who do -PRON- love</td>\n",
              "      <td>bitch</td>\n",
              "      <td>NaN</td>\n",
              "      <td>love</td>\n",
              "      <td>bitch love</td>\n",
              "      <td>5.0</td>\n",
              "      <td>bitch who do -PRON- love</td>\n",
              "      <td>0</td>\n",
              "      <td>0</td>\n",
              "      <td>0</td>\n",
              "    </tr>\n",
              "    <tr>\n",
              "      <th>1</th>\n",
              "      <td>3</td>\n",
              "      <td>0</td>\n",
              "      <td>3</td>\n",
              "      <td>0</td>\n",
              "      <td>1</td>\n",
              "      <td>\" fuck no that bitch dont even suck dick \" &amp;#1...</td>\n",
              "      <td>fuck no that bitch dont even suck dick        ...</td>\n",
              "      <td>fuck no that bitch do not even suck dick the k...</td>\n",
              "      <td>bitch dick kermit video bout</td>\n",
              "      <td>NaN</td>\n",
              "      <td>suck fuck</td>\n",
              "      <td>bitch dick kermit video bout suck fuck</td>\n",
              "      <td>18.0</td>\n",
              "      <td>fuck no that bitch do not even suck dick the k...</td>\n",
              "      <td>0</td>\n",
              "      <td>0</td>\n",
              "      <td>0</td>\n",
              "    </tr>\n",
              "    <tr>\n",
              "      <th>2</th>\n",
              "      <td>3</td>\n",
              "      <td>0</td>\n",
              "      <td>2</td>\n",
              "      <td>1</td>\n",
              "      <td>1</td>\n",
              "      <td>\" lames crying over hoes thats tears of a clown \"</td>\n",
              "      <td>lames crying over hoes thats tears of a clown</td>\n",
              "      <td>lame cry over hoe that s tear of a clown</td>\n",
              "      <td>lame hoe tear clown</td>\n",
              "      <td>NaN</td>\n",
              "      <td>cry s</td>\n",
              "      <td>lame hoe tear clown cry s</td>\n",
              "      <td>10.0</td>\n",
              "      <td>lame cry over hoe that s tear of a clown</td>\n",
              "      <td>0</td>\n",
              "      <td>0</td>\n",
              "      <td>0</td>\n",
              "    </tr>\n",
              "    <tr>\n",
              "      <th>3</th>\n",
              "      <td>3</td>\n",
              "      <td>0</td>\n",
              "      <td>3</td>\n",
              "      <td>0</td>\n",
              "      <td>1</td>\n",
              "      <td>\"..All I wanna do is get money and fuck model ...</td>\n",
              "      <td>all i wanna do is get money and fuck model bit...</td>\n",
              "      <td>all i wanna do be get money and fuck model bit...</td>\n",
              "      <td>wanna money fuck model bitch russell simmons</td>\n",
              "      <td>NaN</td>\n",
              "      <td>NaN</td>\n",
              "      <td>wanna money fuck model bitch russell simmons</td>\n",
              "      <td>14.0</td>\n",
              "      <td>all i wanna do be get money and fuck model bit...</td>\n",
              "      <td>0</td>\n",
              "      <td>0</td>\n",
              "      <td>0</td>\n",
              "    </tr>\n",
              "    <tr>\n",
              "      <th>4</th>\n",
              "      <td>3</td>\n",
              "      <td>0</td>\n",
              "      <td>3</td>\n",
              "      <td>0</td>\n",
              "      <td>1</td>\n",
              "      <td>\"@ARIZZLEINDACUT: Females think dating a pussy...</td>\n",
              "      <td>mentionhere  females think dating a pussy is c...</td>\n",
              "      <td>female think date a pussy be cute now how do d...</td>\n",
              "      <td>mentionhere female pussy stuff pussy</td>\n",
              "      <td>NaN</td>\n",
              "      <td>think date urlhere do make</td>\n",
              "      <td>mentionhere female pussy stuff pussy think dat...</td>\n",
              "      <td>22.0</td>\n",
              "      <td>female think date a pussy be cute now how do d...</td>\n",
              "      <td>1</td>\n",
              "      <td>1</td>\n",
              "      <td>0</td>\n",
              "    </tr>\n",
              "  </tbody>\n",
              "</table>\n",
              "</div>"
            ],
            "text/plain": [
              "   count  hate_speech  ...  url_count  hashtag_count\n",
              "0      3            1  ...          0              0\n",
              "1      3            0  ...          0              0\n",
              "2      3            0  ...          0              0\n",
              "3      3            0  ...          0              0\n",
              "4      3            0  ...          1              0\n",
              "\n",
              "[5 rows x 17 columns]"
            ]
          },
          "metadata": {
            "tags": []
          },
          "execution_count": 68
        }
      ]
    },
    {
      "cell_type": "code",
      "metadata": {
        "colab": {
          "base_uri": "https://localhost:8080/",
          "height": 253
        },
        "id": "zhkoowYgvtpr",
        "outputId": "ec5db76e-28f7-4a88-b318-a6eb79872a1b"
      },
      "source": [
        "feature_array = pd.read_csv('twitter_feature_array.csv')\r\n",
        "feature_array = feature_array.iloc[:,1:]\r\n",
        "feature_array.head()"
      ],
      "execution_count": 69,
      "outputs": [
        {
          "output_type": "execute_result",
          "data": {
            "text/html": [
              "<div>\n",
              "<style scoped>\n",
              "    .dataframe tbody tr th:only-of-type {\n",
              "        vertical-align: middle;\n",
              "    }\n",
              "\n",
              "    .dataframe tbody tr th {\n",
              "        vertical-align: top;\n",
              "    }\n",
              "\n",
              "    .dataframe thead th {\n",
              "        text-align: right;\n",
              "    }\n",
              "</style>\n",
              "<table border=\"1\" class=\"dataframe\">\n",
              "  <thead>\n",
              "    <tr style=\"text-align: right;\">\n",
              "      <th></th>\n",
              "      <th>0</th>\n",
              "      <th>1</th>\n",
              "      <th>2</th>\n",
              "      <th>3</th>\n",
              "      <th>4</th>\n",
              "      <th>5</th>\n",
              "      <th>6</th>\n",
              "      <th>7</th>\n",
              "      <th>8</th>\n",
              "      <th>9</th>\n",
              "      <th>10</th>\n",
              "      <th>11</th>\n",
              "      <th>12</th>\n",
              "      <th>13</th>\n",
              "      <th>14</th>\n",
              "      <th>15</th>\n",
              "      <th>16</th>\n",
              "      <th>17</th>\n",
              "      <th>18</th>\n",
              "      <th>19</th>\n",
              "      <th>20</th>\n",
              "      <th>21</th>\n",
              "      <th>22</th>\n",
              "      <th>23</th>\n",
              "      <th>24</th>\n",
              "      <th>25</th>\n",
              "      <th>26</th>\n",
              "      <th>27</th>\n",
              "      <th>28</th>\n",
              "      <th>29</th>\n",
              "      <th>30</th>\n",
              "      <th>31</th>\n",
              "      <th>32</th>\n",
              "      <th>33</th>\n",
              "      <th>34</th>\n",
              "      <th>35</th>\n",
              "      <th>36</th>\n",
              "      <th>37</th>\n",
              "      <th>38</th>\n",
              "      <th>39</th>\n",
              "      <th>...</th>\n",
              "      <th>60</th>\n",
              "      <th>61</th>\n",
              "      <th>62</th>\n",
              "      <th>63</th>\n",
              "      <th>64</th>\n",
              "      <th>65</th>\n",
              "      <th>66</th>\n",
              "      <th>67</th>\n",
              "      <th>68</th>\n",
              "      <th>69</th>\n",
              "      <th>70</th>\n",
              "      <th>71</th>\n",
              "      <th>72</th>\n",
              "      <th>73</th>\n",
              "      <th>74</th>\n",
              "      <th>75</th>\n",
              "      <th>76</th>\n",
              "      <th>77</th>\n",
              "      <th>78</th>\n",
              "      <th>79</th>\n",
              "      <th>80</th>\n",
              "      <th>81</th>\n",
              "      <th>82</th>\n",
              "      <th>83</th>\n",
              "      <th>84</th>\n",
              "      <th>85</th>\n",
              "      <th>86</th>\n",
              "      <th>87</th>\n",
              "      <th>88</th>\n",
              "      <th>89</th>\n",
              "      <th>90</th>\n",
              "      <th>91</th>\n",
              "      <th>92</th>\n",
              "      <th>93</th>\n",
              "      <th>94</th>\n",
              "      <th>95</th>\n",
              "      <th>96</th>\n",
              "      <th>97</th>\n",
              "      <th>98</th>\n",
              "      <th>99</th>\n",
              "    </tr>\n",
              "  </thead>\n",
              "  <tbody>\n",
              "    <tr>\n",
              "      <th>0</th>\n",
              "      <td>-0.092240</td>\n",
              "      <td>0.655190</td>\n",
              "      <td>-0.054113</td>\n",
              "      <td>-0.001526</td>\n",
              "      <td>0.245873</td>\n",
              "      <td>-0.047122</td>\n",
              "      <td>-0.195120</td>\n",
              "      <td>-0.241070</td>\n",
              "      <td>-0.024567</td>\n",
              "      <td>-0.028244</td>\n",
              "      <td>-0.084202</td>\n",
              "      <td>0.017118</td>\n",
              "      <td>-0.144938</td>\n",
              "      <td>0.133747</td>\n",
              "      <td>0.260563</td>\n",
              "      <td>0.235359</td>\n",
              "      <td>0.074279</td>\n",
              "      <td>-0.286692</td>\n",
              "      <td>0.023163</td>\n",
              "      <td>-0.300279</td>\n",
              "      <td>-0.086249</td>\n",
              "      <td>0.256659</td>\n",
              "      <td>0.121424</td>\n",
              "      <td>-0.043863</td>\n",
              "      <td>-0.077905</td>\n",
              "      <td>0.147504</td>\n",
              "      <td>0.002595</td>\n",
              "      <td>0.245808</td>\n",
              "      <td>0.173266</td>\n",
              "      <td>0.045098</td>\n",
              "      <td>0.062403</td>\n",
              "      <td>-0.026691</td>\n",
              "      <td>0.245784</td>\n",
              "      <td>-0.219663</td>\n",
              "      <td>0.004376</td>\n",
              "      <td>0.035373</td>\n",
              "      <td>0.158146</td>\n",
              "      <td>-0.093315</td>\n",
              "      <td>-0.388298</td>\n",
              "      <td>0.087271</td>\n",
              "      <td>...</td>\n",
              "      <td>0.205606</td>\n",
              "      <td>-0.489260</td>\n",
              "      <td>-0.199709</td>\n",
              "      <td>0.066252</td>\n",
              "      <td>-0.107776</td>\n",
              "      <td>0.670891</td>\n",
              "      <td>-0.264344</td>\n",
              "      <td>-0.251179</td>\n",
              "      <td>0.034916</td>\n",
              "      <td>-0.376622</td>\n",
              "      <td>-0.224173</td>\n",
              "      <td>-0.080999</td>\n",
              "      <td>0.304539</td>\n",
              "      <td>0.017437</td>\n",
              "      <td>-0.027195</td>\n",
              "      <td>-0.032464</td>\n",
              "      <td>-0.185328</td>\n",
              "      <td>-0.650378</td>\n",
              "      <td>-0.005409</td>\n",
              "      <td>-0.024056</td>\n",
              "      <td>0.027750</td>\n",
              "      <td>-0.009322</td>\n",
              "      <td>-0.159802</td>\n",
              "      <td>-0.122673</td>\n",
              "      <td>-0.068321</td>\n",
              "      <td>-0.218895</td>\n",
              "      <td>-0.581081</td>\n",
              "      <td>0.144666</td>\n",
              "      <td>0.305857</td>\n",
              "      <td>0.169767</td>\n",
              "      <td>-0.009025</td>\n",
              "      <td>0.098637</td>\n",
              "      <td>0.100423</td>\n",
              "      <td>0.644974</td>\n",
              "      <td>-0.122191</td>\n",
              "      <td>-0.027687</td>\n",
              "      <td>-0.357734</td>\n",
              "      <td>-0.078975</td>\n",
              "      <td>0.641340</td>\n",
              "      <td>-0.015340</td>\n",
              "    </tr>\n",
              "    <tr>\n",
              "      <th>1</th>\n",
              "      <td>-0.036190</td>\n",
              "      <td>0.052367</td>\n",
              "      <td>0.056565</td>\n",
              "      <td>0.040076</td>\n",
              "      <td>0.153519</td>\n",
              "      <td>-0.078184</td>\n",
              "      <td>-0.050946</td>\n",
              "      <td>-0.083378</td>\n",
              "      <td>-0.090013</td>\n",
              "      <td>0.050202</td>\n",
              "      <td>-0.080964</td>\n",
              "      <td>-0.070922</td>\n",
              "      <td>0.071512</td>\n",
              "      <td>0.138679</td>\n",
              "      <td>-0.016175</td>\n",
              "      <td>0.097476</td>\n",
              "      <td>-0.048397</td>\n",
              "      <td>-0.134991</td>\n",
              "      <td>0.072126</td>\n",
              "      <td>-0.094135</td>\n",
              "      <td>-0.016459</td>\n",
              "      <td>0.158259</td>\n",
              "      <td>0.156930</td>\n",
              "      <td>0.070572</td>\n",
              "      <td>0.053377</td>\n",
              "      <td>0.155876</td>\n",
              "      <td>0.070360</td>\n",
              "      <td>0.148773</td>\n",
              "      <td>0.146930</td>\n",
              "      <td>0.078084</td>\n",
              "      <td>-0.063858</td>\n",
              "      <td>0.103079</td>\n",
              "      <td>0.132131</td>\n",
              "      <td>-0.059853</td>\n",
              "      <td>0.076851</td>\n",
              "      <td>-0.071264</td>\n",
              "      <td>0.071989</td>\n",
              "      <td>-0.113729</td>\n",
              "      <td>-0.143652</td>\n",
              "      <td>0.113485</td>\n",
              "      <td>...</td>\n",
              "      <td>0.115604</td>\n",
              "      <td>-0.194268</td>\n",
              "      <td>-0.097824</td>\n",
              "      <td>0.082911</td>\n",
              "      <td>-0.086029</td>\n",
              "      <td>0.133377</td>\n",
              "      <td>0.002730</td>\n",
              "      <td>-0.077233</td>\n",
              "      <td>0.022301</td>\n",
              "      <td>-0.145175</td>\n",
              "      <td>0.091617</td>\n",
              "      <td>0.071794</td>\n",
              "      <td>0.128928</td>\n",
              "      <td>0.061167</td>\n",
              "      <td>-0.131251</td>\n",
              "      <td>-0.076889</td>\n",
              "      <td>-0.103412</td>\n",
              "      <td>-0.190894</td>\n",
              "      <td>-0.052555</td>\n",
              "      <td>-0.063678</td>\n",
              "      <td>-0.079774</td>\n",
              "      <td>-0.031221</td>\n",
              "      <td>-0.111017</td>\n",
              "      <td>0.057445</td>\n",
              "      <td>-0.051389</td>\n",
              "      <td>-0.106647</td>\n",
              "      <td>-0.186939</td>\n",
              "      <td>0.079015</td>\n",
              "      <td>0.088023</td>\n",
              "      <td>0.125001</td>\n",
              "      <td>0.086134</td>\n",
              "      <td>-0.051438</td>\n",
              "      <td>0.051010</td>\n",
              "      <td>0.250482</td>\n",
              "      <td>-0.081903</td>\n",
              "      <td>0.051434</td>\n",
              "      <td>-0.121692</td>\n",
              "      <td>-0.058639</td>\n",
              "      <td>0.217542</td>\n",
              "      <td>-0.000544</td>\n",
              "    </tr>\n",
              "    <tr>\n",
              "      <th>2</th>\n",
              "      <td>-0.084097</td>\n",
              "      <td>0.030291</td>\n",
              "      <td>0.036536</td>\n",
              "      <td>0.039797</td>\n",
              "      <td>0.106109</td>\n",
              "      <td>0.002597</td>\n",
              "      <td>0.060696</td>\n",
              "      <td>-0.047483</td>\n",
              "      <td>-0.047069</td>\n",
              "      <td>0.039118</td>\n",
              "      <td>-0.057885</td>\n",
              "      <td>0.014168</td>\n",
              "      <td>0.126572</td>\n",
              "      <td>0.065042</td>\n",
              "      <td>-0.013603</td>\n",
              "      <td>0.061532</td>\n",
              "      <td>-0.029704</td>\n",
              "      <td>-0.057869</td>\n",
              "      <td>0.038610</td>\n",
              "      <td>-0.082889</td>\n",
              "      <td>-0.102341</td>\n",
              "      <td>0.084914</td>\n",
              "      <td>0.082261</td>\n",
              "      <td>0.054639</td>\n",
              "      <td>0.073383</td>\n",
              "      <td>0.042685</td>\n",
              "      <td>0.049643</td>\n",
              "      <td>0.120244</td>\n",
              "      <td>0.058095</td>\n",
              "      <td>0.023743</td>\n",
              "      <td>-0.131025</td>\n",
              "      <td>0.085238</td>\n",
              "      <td>0.070551</td>\n",
              "      <td>-0.051008</td>\n",
              "      <td>0.075342</td>\n",
              "      <td>-0.082710</td>\n",
              "      <td>0.068744</td>\n",
              "      <td>-0.044437</td>\n",
              "      <td>-0.090812</td>\n",
              "      <td>0.017902</td>\n",
              "      <td>...</td>\n",
              "      <td>0.013078</td>\n",
              "      <td>-0.119208</td>\n",
              "      <td>-0.077484</td>\n",
              "      <td>0.040117</td>\n",
              "      <td>0.016174</td>\n",
              "      <td>-0.007117</td>\n",
              "      <td>0.022039</td>\n",
              "      <td>0.068144</td>\n",
              "      <td>0.068378</td>\n",
              "      <td>-0.024262</td>\n",
              "      <td>-0.005079</td>\n",
              "      <td>0.001972</td>\n",
              "      <td>-0.011525</td>\n",
              "      <td>0.079152</td>\n",
              "      <td>-0.042717</td>\n",
              "      <td>-0.029519</td>\n",
              "      <td>-0.080846</td>\n",
              "      <td>-0.046283</td>\n",
              "      <td>-0.065560</td>\n",
              "      <td>-0.010593</td>\n",
              "      <td>-0.051926</td>\n",
              "      <td>-0.053647</td>\n",
              "      <td>-0.078331</td>\n",
              "      <td>0.037060</td>\n",
              "      <td>-0.079844</td>\n",
              "      <td>-0.073039</td>\n",
              "      <td>-0.070165</td>\n",
              "      <td>0.021942</td>\n",
              "      <td>0.018405</td>\n",
              "      <td>0.055981</td>\n",
              "      <td>0.095309</td>\n",
              "      <td>-0.026714</td>\n",
              "      <td>0.062526</td>\n",
              "      <td>0.106153</td>\n",
              "      <td>-0.041362</td>\n",
              "      <td>0.022510</td>\n",
              "      <td>-0.119272</td>\n",
              "      <td>0.038568</td>\n",
              "      <td>0.058572</td>\n",
              "      <td>0.055155</td>\n",
              "    </tr>\n",
              "    <tr>\n",
              "      <th>3</th>\n",
              "      <td>0.007605</td>\n",
              "      <td>0.010492</td>\n",
              "      <td>0.032044</td>\n",
              "      <td>0.126457</td>\n",
              "      <td>0.047635</td>\n",
              "      <td>-0.069211</td>\n",
              "      <td>-0.054946</td>\n",
              "      <td>-0.011408</td>\n",
              "      <td>-0.095851</td>\n",
              "      <td>0.020046</td>\n",
              "      <td>0.003323</td>\n",
              "      <td>-0.133273</td>\n",
              "      <td>0.088458</td>\n",
              "      <td>0.085528</td>\n",
              "      <td>-0.134176</td>\n",
              "      <td>0.160204</td>\n",
              "      <td>-0.124831</td>\n",
              "      <td>-0.205083</td>\n",
              "      <td>0.032643</td>\n",
              "      <td>-0.126135</td>\n",
              "      <td>-0.051548</td>\n",
              "      <td>0.088798</td>\n",
              "      <td>0.025654</td>\n",
              "      <td>0.168733</td>\n",
              "      <td>0.034132</td>\n",
              "      <td>0.229901</td>\n",
              "      <td>0.074071</td>\n",
              "      <td>0.107338</td>\n",
              "      <td>0.132614</td>\n",
              "      <td>0.019447</td>\n",
              "      <td>-0.102742</td>\n",
              "      <td>0.155967</td>\n",
              "      <td>0.202246</td>\n",
              "      <td>-0.061877</td>\n",
              "      <td>0.052302</td>\n",
              "      <td>-0.070236</td>\n",
              "      <td>-0.060538</td>\n",
              "      <td>-0.142419</td>\n",
              "      <td>-0.070141</td>\n",
              "      <td>0.103112</td>\n",
              "      <td>...</td>\n",
              "      <td>0.059841</td>\n",
              "      <td>-0.105462</td>\n",
              "      <td>-0.103623</td>\n",
              "      <td>0.139822</td>\n",
              "      <td>-0.097187</td>\n",
              "      <td>0.005083</td>\n",
              "      <td>-0.000010</td>\n",
              "      <td>-0.073517</td>\n",
              "      <td>0.043164</td>\n",
              "      <td>-0.013941</td>\n",
              "      <td>0.113181</td>\n",
              "      <td>0.072388</td>\n",
              "      <td>0.104389</td>\n",
              "      <td>0.066644</td>\n",
              "      <td>-0.017776</td>\n",
              "      <td>-0.043617</td>\n",
              "      <td>-0.109414</td>\n",
              "      <td>-0.054915</td>\n",
              "      <td>-0.064482</td>\n",
              "      <td>-0.014958</td>\n",
              "      <td>-0.115649</td>\n",
              "      <td>-0.091552</td>\n",
              "      <td>-0.093299</td>\n",
              "      <td>0.078002</td>\n",
              "      <td>-0.035722</td>\n",
              "      <td>-0.065693</td>\n",
              "      <td>-0.017100</td>\n",
              "      <td>0.063090</td>\n",
              "      <td>0.019839</td>\n",
              "      <td>0.032951</td>\n",
              "      <td>0.103008</td>\n",
              "      <td>-0.043711</td>\n",
              "      <td>0.106259</td>\n",
              "      <td>0.163596</td>\n",
              "      <td>0.011475</td>\n",
              "      <td>0.101757</td>\n",
              "      <td>-0.065334</td>\n",
              "      <td>-0.043148</td>\n",
              "      <td>0.092530</td>\n",
              "      <td>0.035289</td>\n",
              "    </tr>\n",
              "    <tr>\n",
              "      <th>4</th>\n",
              "      <td>-0.100222</td>\n",
              "      <td>-0.060809</td>\n",
              "      <td>0.076636</td>\n",
              "      <td>-0.023275</td>\n",
              "      <td>0.134729</td>\n",
              "      <td>-0.025185</td>\n",
              "      <td>0.020398</td>\n",
              "      <td>-0.055950</td>\n",
              "      <td>-0.117073</td>\n",
              "      <td>-0.033665</td>\n",
              "      <td>-0.091840</td>\n",
              "      <td>-0.029591</td>\n",
              "      <td>0.114382</td>\n",
              "      <td>0.078044</td>\n",
              "      <td>-0.072689</td>\n",
              "      <td>0.136520</td>\n",
              "      <td>-0.005229</td>\n",
              "      <td>-0.044212</td>\n",
              "      <td>0.039679</td>\n",
              "      <td>-0.083787</td>\n",
              "      <td>-0.048796</td>\n",
              "      <td>0.060137</td>\n",
              "      <td>0.099471</td>\n",
              "      <td>0.051886</td>\n",
              "      <td>0.061178</td>\n",
              "      <td>0.029112</td>\n",
              "      <td>-0.018890</td>\n",
              "      <td>0.126826</td>\n",
              "      <td>0.062420</td>\n",
              "      <td>0.041449</td>\n",
              "      <td>-0.151718</td>\n",
              "      <td>0.056951</td>\n",
              "      <td>0.109106</td>\n",
              "      <td>-0.154737</td>\n",
              "      <td>0.041792</td>\n",
              "      <td>-0.071876</td>\n",
              "      <td>0.116065</td>\n",
              "      <td>-0.051557</td>\n",
              "      <td>-0.097395</td>\n",
              "      <td>0.051383</td>\n",
              "      <td>...</td>\n",
              "      <td>0.144220</td>\n",
              "      <td>-0.116591</td>\n",
              "      <td>-0.101171</td>\n",
              "      <td>0.024019</td>\n",
              "      <td>0.002672</td>\n",
              "      <td>-0.102524</td>\n",
              "      <td>0.064942</td>\n",
              "      <td>0.064032</td>\n",
              "      <td>-0.000060</td>\n",
              "      <td>-0.088190</td>\n",
              "      <td>-0.019287</td>\n",
              "      <td>0.059702</td>\n",
              "      <td>0.070999</td>\n",
              "      <td>0.052178</td>\n",
              "      <td>-0.076497</td>\n",
              "      <td>-0.079551</td>\n",
              "      <td>-0.063992</td>\n",
              "      <td>-0.055786</td>\n",
              "      <td>-0.088510</td>\n",
              "      <td>-0.022635</td>\n",
              "      <td>-0.109234</td>\n",
              "      <td>-0.126997</td>\n",
              "      <td>0.025283</td>\n",
              "      <td>0.087030</td>\n",
              "      <td>-0.046686</td>\n",
              "      <td>-0.102979</td>\n",
              "      <td>-0.117378</td>\n",
              "      <td>0.040143</td>\n",
              "      <td>0.052008</td>\n",
              "      <td>0.103890</td>\n",
              "      <td>0.097490</td>\n",
              "      <td>-0.023263</td>\n",
              "      <td>0.055456</td>\n",
              "      <td>0.143194</td>\n",
              "      <td>-0.056619</td>\n",
              "      <td>0.058868</td>\n",
              "      <td>-0.130279</td>\n",
              "      <td>-0.070994</td>\n",
              "      <td>0.091588</td>\n",
              "      <td>0.107159</td>\n",
              "    </tr>\n",
              "  </tbody>\n",
              "</table>\n",
              "<p>5 rows × 100 columns</p>\n",
              "</div>"
            ],
            "text/plain": [
              "          0         1         2  ...        97        98        99\n",
              "0 -0.092240  0.655190 -0.054113  ... -0.078975  0.641340 -0.015340\n",
              "1 -0.036190  0.052367  0.056565  ... -0.058639  0.217542 -0.000544\n",
              "2 -0.084097  0.030291  0.036536  ...  0.038568  0.058572  0.055155\n",
              "3  0.007605  0.010492  0.032044  ... -0.043148  0.092530  0.035289\n",
              "4 -0.100222 -0.060809  0.076636  ... -0.070994  0.091588  0.107159\n",
              "\n",
              "[5 rows x 100 columns]"
            ]
          },
          "metadata": {
            "tags": []
          },
          "execution_count": 69
        }
      ]
    },
    {
      "cell_type": "markdown",
      "metadata": {
        "id": "og7oy-Xxy2Zl"
      },
      "source": [
        "## Building Multi-Layer Perceptron"
      ]
    },
    {
      "cell_type": "code",
      "metadata": {
        "id": "h5I82h5SvxRI"
      },
      "source": [
        "from sklearn.model_selection import train_test_split\r\n",
        "from keras.utils import to_categorical\r\n",
        "X = feature_array\r\n",
        "y = to_categorical(df['class'])\r\n"
      ],
      "execution_count": 70,
      "outputs": []
    },
    {
      "cell_type": "code",
      "metadata": {
        "id": "xsGLkpsHvy_X"
      },
      "source": [
        "#Splitting data into training and testing\r\n",
        "trainX, testX, trainy, testy = train_test_split(X, y, test_size=0.30, random_state=0)"
      ],
      "execution_count": 71,
      "outputs": []
    },
    {
      "cell_type": "code",
      "metadata": {
        "colab": {
          "base_uri": "https://localhost:8080/",
          "height": 553
        },
        "id": "WHhJH1FwwEJ-",
        "outputId": "45ddf60e-4378-4a3f-b576-19d3f35dcc55"
      },
      "source": [
        "from keras.layers import Dense\r\n",
        "from keras.models import Sequential\r\n",
        "from keras.optimizers import SGD\r\n",
        "\r\n",
        "# define and fit model on a training dataset\r\n",
        "def fit_model(trainX, trainy, testX, testy):\r\n",
        "\t# define model\r\n",
        "\tmodel = Sequential()\r\n",
        "\tmodel.add(Dense(5, input_dim=100, activation='relu', kernel_initializer='he_uniform'))\r\n",
        "\tmodel.add(Dense(5, activation='relu', kernel_initializer='he_uniform'))\r\n",
        "\tmodel.add(Dense(2, activation='softmax'))\r\n",
        "\t# compile model\r\n",
        "\tmodel.compile(loss='categorical_crossentropy', optimizer='sgd', metrics=['accuracy'])\r\n",
        "\t# fit model\r\n",
        "\thistory = model.fit(trainX, trainy, validation_data=(testX, testy), epochs=100, verbose=0)\r\n",
        "\treturn model, history\r\n",
        "\r\n",
        "# summarize the performance of the fit model\r\n",
        "def summarize_model(model, history, trainX, trainy, testX, testy):\r\n",
        "\t# evaluate the model\r\n",
        "\t_, train_acc = model.evaluate(trainX, trainy, verbose=0)\r\n",
        "\t_, test_acc = model.evaluate(testX, testy, verbose=0)\r\n",
        "\tprint('Train: %.3f, Test: %.3f' % (train_acc, test_acc))\r\n",
        "\t# plot loss during training\r\n",
        "\tpyplot.subplot(211)\r\n",
        "\tpyplot.title('Loss')\r\n",
        "\tpyplot.plot(history.history['loss'], label='train')\r\n",
        "\tpyplot.plot(history.history['val_loss'], label='test')\r\n",
        "\tpyplot.legend()\r\n",
        "\t# plot accuracy during training\r\n",
        "\tpyplot.subplot(212)\r\n",
        "\tpyplot.title('Accuracy')\r\n",
        "\tpyplot.plot(history.history['accuracy'], label='train')\r\n",
        "\tpyplot.plot(history.history['val_accuracy'], label='test')\r\n",
        "\tpyplot.legend()\r\n",
        "\tpyplot.show()\r\n",
        "\r\n",
        "# fit model on train dataset\r\n",
        "model1, history = fit_model(trainX, trainy, testX, testy)\r\n",
        "# evaluate model behavior\r\n",
        "summarize_model(model1, history, trainX, trainy, testX, testy)\r\n",
        "print(model1.summary())"
      ],
      "execution_count": 72,
      "outputs": [
        {
          "output_type": "stream",
          "text": [
            "Train: 0.755, Test: 0.754\n"
          ],
          "name": "stdout"
        },
        {
          "output_type": "display_data",
          "data": {
            "image/png": "[encoded data removed]",
            "text/plain": [
              "<Figure size 432x288 with 2 Axes>"
            ]
          },
          "metadata": {
            "tags": [],
            "needs_background": "light"
          }
        },
        {
          "output_type": "stream",
          "text": [
            "Model: \"sequential_11\"\n",
            "_________________________________________________________________\n",
            "Layer (type)                 Output Shape              Param #   \n",
            "=================================================================\n",
            "dense_33 (Dense)             (None, 5)                 505       \n",
            "_________________________________________________________________\n",
            "dense_34 (Dense)             (None, 5)                 30        \n",
            "_________________________________________________________________\n",
            "dense_35 (Dense)             (None, 2)                 12        \n",
            "=================================================================\n",
            "Total params: 547\n",
            "Trainable params: 547\n",
            "Non-trainable params: 0\n",
            "_________________________________________________________________\n",
            "None\n"
          ],
          "name": "stdout"
        }
      ]
    },
    {
      "cell_type": "code",
      "metadata": {
        "id": "WlE7SDdPwklF"
      },
      "source": [
        "#TRANSFER LEARNING\r\n",
        "trainX, testX, trainy, testy = train_test_split(X, y, test_size=0.30, random_state=2)"
      ],
      "execution_count": 73,
      "outputs": []
    },
    {
      "cell_type": "code",
      "metadata": {
        "colab": {
          "base_uri": "https://localhost:8080/",
          "height": 298
        },
        "id": "TTbqQdFWwmbL",
        "outputId": "528597ad-2027-4f5b-e844-882648ab17b6"
      },
      "source": [
        "def fit_model2(trainX, trainy, testX, testy):\r\n",
        "\t# define model\r\n",
        "\tmodel = Sequential()\r\n",
        "\tmodel.add(Dense(5, input_dim=100, activation='relu', kernel_initializer='he_uniform'))\r\n",
        "\tmodel.add(Dense(5, activation='relu', kernel_initializer='he_uniform'))\r\n",
        "\tmodel.add(Dense(2, activation='softmax'))\r\n",
        "\t# compile model\r\n",
        "\tmodel.compile(loss='categorical_crossentropy', optimizer='sgd', metrics=['accuracy'])\r\n",
        "\t# fit model\r\n",
        "\thistory = model.fit(trainX, trainy, validation_data=(testX, testy), epochs=5, verbose=0)\r\n",
        "\treturn model, history\r\n",
        "\r\n",
        "model2, history2 = fit_model2(trainX, trainy, testX, testy)\r\n",
        "summarize_model(model2, history2, trainX, trainy, testX, testy)"
      ],
      "execution_count": 74,
      "outputs": [
        {
          "output_type": "stream",
          "text": [
            "Train: 0.644, Test: 0.648\n"
          ],
          "name": "stdout"
        },
        {
          "output_type": "display_data",
          "data": {
            "image/png": "[encoded data removed]",
            "text/plain": [
              "<Figure size 432x288 with 2 Axes>"
            ]
          },
          "metadata": {
            "tags": [],
            "needs_background": "light"
          }
        }
      ]
    },
    {
      "cell_type": "code",
      "metadata": {
        "id": "mC0h9x5YwyNc"
      },
      "source": [
        "def fit_model_transfer(trainX, trainy, testX, testy):\r\n",
        "\t# define model\r\n",
        "\tmodel = model1\r\n",
        "\t# compile model\r\n",
        "\tmodel.compile(loss='categorical_crossentropy', optimizer='sgd', metrics=['accuracy'])\r\n",
        "\t# fit model\r\n",
        "\thistory = model.fit(trainX, trainy, validation_data=(testX, testy), epochs=100, verbose=0)\r\n",
        "\treturn model, history"
      ],
      "execution_count": 88,
      "outputs": []
    },
    {
      "cell_type": "code",
      "metadata": {
        "colab": {
          "base_uri": "https://localhost:8080/",
          "height": 298
        },
        "id": "7sHhvySJyBWL",
        "outputId": "c5432c93-b734-49ca-b582-fac8321ecb8a"
      },
      "source": [
        "model3, history3 = fit_model_transfer(trainX, trainy, testX, testy)\r\n",
        "summarize_model(model3, history3, trainX, trainy, testX, testy)"
      ],
      "execution_count": 90,
      "outputs": [
        {
          "output_type": "stream",
          "text": [
            "Train: 0.783, Test: 0.787\n"
          ],
          "name": "stdout"
        },
        {
          "output_type": "display_data",
          "data": {
            "image/png": "[encoded data removed]",
            "text/plain": [
              "<Figure size 432x288 with 2 Axes>"
            ]
          },
          "metadata": {
            "tags": [],
            "needs_background": "light"
          }
        }
      ]
    },
    {
      "cell_type": "code",
      "metadata": {
        "colab": {
          "base_uri": "https://localhost:8080/",
          "height": 316
        },
        "id": "VbPCzjSUyOtF",
        "outputId": "511edcaa-5f13-471e-aa04-75ebfa04cf2a"
      },
      "source": [
        "from statistics import mean\r\n",
        "from statistics import stdev\r\n",
        "\r\n",
        "# prepare data for problem 2\r\n",
        "n_repeats = 30\r\n",
        "dists, dist_labels = list(), list()\r\n",
        "\r\n",
        "# repeated evaluation of transfer learning model, vary fixed layers\r\n",
        "n_fixed = 3\r\n",
        "for i in range(n_fixed):\r\n",
        "\tscores = eval_transfer_model(trainX, trainy, testX, testy, i, n_repeats)\r\n",
        "\tprint('Transfer (fixed=%d) %.3f (%.3f)' % (i, mean(scores), stdev(scores)))\r\n",
        "\tdists.append(scores)\r\n",
        "\tdist_labels.append('transfer f='+str(i))\r\n",
        "\r\n",
        "# box and whisker plot of score distributions\r\n",
        "pyplot.boxplot(dists, labels=dist_labels)\r\n",
        "pyplot.show()"
      ],
      "execution_count": 96,
      "outputs": [
        {
          "output_type": "stream",
          "text": [
            "Transfer (fixed=0) 0.755 (0.006)\n",
            "Transfer (fixed=1) 0.761 (0.002)\n",
            "Transfer (fixed=2) 0.762 (0.000)\n"
          ],
          "name": "stdout"
        },
        {
          "output_type": "display_data",
          "data": {
            "image/png": "[encoded data removed]",
            "text/plain": [
              "<Figure size 432x288 with 1 Axes>"
            ]
          },
          "metadata": {
            "tags": [],
            "needs_background": "light"
          }
        }
      ]
    },
    {
      "cell_type": "markdown",
      "metadata": {
        "id": "Od-rx_-ah6Qq"
      },
      "source": [
        "# Semi supervised learning"
      ]
    },
    {
      "cell_type": "code",
      "metadata": {
        "id": "lf17teniyVgq"
      },
      "source": [
        "\r\n"
      ],
      "execution_count": 96,
      "outputs": []
    },
    {
      "cell_type": "code",
      "metadata": {
        "id": "MKxUtJi66iKO"
      },
      "source": [
        ""
      ],
      "execution_count": null,
      "outputs": []
    }
  ]
}